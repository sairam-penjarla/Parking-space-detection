{
 "cells": [
  {
   "cell_type": "code",
   "execution_count": null,
   "metadata": {},
   "outputs": [],
   "source": [
    "! pip install -U ultralytics\n",
    "! pip install huggingface_hub\n",
    "! pip install -q git+https://github.com/THU-MIG/yolov10.git\n"
   ]
  },
  {
   "cell_type": "code",
   "execution_count": null,
   "metadata": {},
   "outputs": [],
   "source": [
    "import os\n",
    "import os\n",
    "import shutil\n",
    "from sklearn.model_selection import train_test_split\n",
    "from bs4 import BeautifulSoup\n",
    "import requests"
   ]
  },
  {
   "cell_type": "code",
   "execution_count": null,
   "metadata": {},
   "outputs": [],
   "source": [
    "# Define the paths\n",
    "DATASET_PATH = \"./archive\"\n",
    "\n",
    "IMAGES_PATH = f\"{DATASET_PATH}/images/\"\n",
    "TRAIN_IMAGE_PATH = f\"{DATASET_PATH}/working/Train/images\"\n",
    "TEST_IMAGE_PATH = f\"{DATASET_PATH}/working/val/images\"\n",
    "VAL_IMAGE_PATH = f\"{DATASET_PATH}/working/Test/images\"\n",
    "TRAIN_LABEL_PATH = f\"{DATASET_PATH}/working/Train/labels\"\n",
    "TEST_LABEL_PATH = f\"{DATASET_PATH}/working/val/labels\"\n",
    "VAL_LABEL_PATH = f\"{DATASET_PATH}/working/Test/labels\"\n",
    "\n",
    "GITHUB_URL = \"https://github.com/jameslahm/yolov10/releases/download/v1.0/yolov10x.pt\"\n",
    "MODEL_PATH = f\"{DATASET_PATH}/weights\"\n",
    "PRETRAINED_MODLE_PATH = f\"{MODEL_PATH}/yolov10x.pt\"\n",
    "FINETUNED_MODLE_PATH = f\"{MODEL_PATH}/yolov10.pt\"\n",
    "\n",
    "mapping = {'free_parking_space' : 0,'not_free_parking_space' : 1,'partially_free_parking_space' : 2}"
   ]
  },
  {
   "cell_type": "markdown",
   "metadata": {},
   "source": [
    "# PREPARING"
   ]
  },
  {
   "cell_type": "code",
   "execution_count": null,
   "metadata": {},
   "outputs": [],
   "source": [
    "def get_bbox(points_list, img_width, img_height):\n",
    "    points = [tuple(map(float, point.split(','))) for point in points_list]\n",
    "\n",
    "    # Find extremes\n",
    "    min_x = min(point[0] for point in points)\n",
    "    max_x = max(point[0] for point in points)\n",
    "    min_y = min(point[1] for point in points)\n",
    "    max_y = max(point[1] for point in points)\n",
    "\n",
    "    # Calculate bbox center, width, and height\n",
    "    x_center = (min_x + max_x) / 2\n",
    "    y_center = (min_y + max_y) / 2\n",
    "    width = max_x - min_x\n",
    "    height = max_y - min_y\n",
    "\n",
    "    # Normalize values\n",
    "    x_center_norm = x_center / float(img_width)\n",
    "    y_center_norm = y_center / float(img_height)\n",
    "    width_norm = width / float(img_width)\n",
    "    \n",
    "    height_norm = height / float(img_height)\n",
    "\n",
    "    return x_center_norm, y_center_norm, width_norm, height_norm\n",
    "\n",
    "def parse_image_details(image):\n",
    "    image_name = image.get('name')\n",
    "    img_height = image.get('height')\n",
    "    img_width = image.get('width')\n",
    "    return image_name, img_height, img_width\n",
    "\n",
    "def download_weights():\n",
    "    os.makedirs(MODEL_PATH, exist_ok=True)\n",
    "    response = requests.get(GITHUB_URL, stream=True)\n",
    "    if response.status_code == 200:\n",
    "        with open(PRETRAINED_MODLE_PATH, 'wb') as f:\n",
    "            for chunk in response.iter_content(chunk_size=8192):\n",
    "                f.write(chunk)\n",
    "        print(f\"File downloaded successfully and saved to {PRETRAINED_MODLE_PATH}\")\n",
    "    else:\n",
    "        print(f\"Failed to download file. Status code: {response.status_code}\")"
   ]
  },
  {
   "cell_type": "code",
   "execution_count": null,
   "metadata": {},
   "outputs": [],
   "source": [
    "def annotations_to_labels():\n",
    "    with open(f'{DATASET_PATH}/annotations.xml', 'r') as f:\n",
    "        data = f.read()\n",
    "\n",
    "    labels_path = f\"{DATASET_PATH}/labels\"\n",
    "    os.makedirs(labels_path, exist_ok=True)\n",
    "\n",
    "    Bs_data = BeautifulSoup(data, \"lxml\")\n",
    "\n",
    "    for image in Bs_data.find_all('image'):\n",
    "        \n",
    "        image_name, img_height, img_width = parse_image_details(image)\n",
    "        polygons = image.find_all(\"polygon\")\n",
    "        \n",
    "        # Read all boxes\n",
    "        boxes = []\n",
    "        for polygon in polygons:\n",
    "            label_num = polygon.get('label')\n",
    "            points = polygon.get('points').split(';')\n",
    "\n",
    "            label = mapping[label_num]\n",
    "            boxX, boxY, boxW, boxH = get_bbox(points, img_width, img_height)\n",
    "\n",
    "            box = [label, boxX, boxY, boxW, boxH]\n",
    "            boxes.append(box)\n",
    "        \n",
    "        # Write to file\n",
    "        file_path = os.path.join(labels_path, image_name.replace(\".png\", \"\").replace(\"images/\", \"\") + '.txt')\n",
    "        with open(file_path, 'w') as file:\n",
    "            for box in boxes:\n",
    "                file.write(\" \".join([str(x) for x in box])+\"\\n\")\n",
    "    "
   ]
  },
  {
   "cell_type": "code",
   "execution_count": null,
   "metadata": {},
   "outputs": [],
   "source": [
    "def restructure_data():\n",
    "    for pth in [TRAIN_IMAGE_PATH, TEST_IMAGE_PATH, VAL_IMAGE_PATH, TRAIN_LABEL_PATH, TEST_LABEL_PATH, VAL_LABEL_PATH]:\n",
    "        os.makedirs(pth, exist_ok=True)\n",
    "\n",
    "    # List all images in the directory\n",
    "    all_images = [f for f in os.listdir(IMAGES_PATH) if os.path.isfile(os.path.join(IMAGES_PATH, f))]\n",
    "\n",
    "    # Split images into training and testing sets\n",
    "    train_images, test_images = train_test_split(all_images, test_size=0.2, random_state=42)\n",
    "\n",
    "    # Function to copy images to the respective folder\n",
    "    def copy_files(file_list, source_dir, dest_dir):\n",
    "        for file_name in file_list:\n",
    "            if file_name.endswith(\".png\"):\n",
    "                # Image\n",
    "                source = os.path.join(source_dir, file_name)\n",
    "                destination = os.path.join(dest_dir, file_name)\n",
    "                shutil.copy2(source, destination)\n",
    "                # Label\n",
    "                source = source.replace(\"images\", \"labels\").replace(\".png\", \".txt\")\n",
    "                destination = destination.replace(\"images\", \"labels\").replace(\".png\", \".txt\")\n",
    "                shutil.copy2(source, destination)\n",
    "\n",
    "    # Copy train images\n",
    "    copy_files(train_images, IMAGES_PATH, TRAIN_IMAGE_PATH)\n",
    "    # Copy test images\n",
    "    copy_files(test_images, IMAGES_PATH, TEST_IMAGE_PATH)\n",
    "\n",
    "    print(f\"Copied {len(train_images)} images to {TRAIN_IMAGE_PATH}\")\n",
    "    print(f\"Copied {len(test_images)} images to {TEST_IMAGE_PATH}\")\n"
   ]
  },
  {
   "cell_type": "code",
   "execution_count": null,
   "metadata": {},
   "outputs": [],
   "source": [
    "annotations_to_labels()\n",
    "restructure_data()"
   ]
  },
  {
   "cell_type": "markdown",
   "metadata": {},
   "source": [
    "# Training"
   ]
  },
  {
   "cell_type": "code",
   "execution_count": null,
   "metadata": {},
   "outputs": [],
   "source": [
    "# !wget -P archive/weights -q https://github.com/jameslahm/yolov10/releases/download/v1.0/yolov10n.pt\n",
    "# !wget -P archive/weights -q https://github.com/jameslahm/yolov10/releases/download/v1.0/yolov10s.pt\n",
    "# !wget -P archive/weights -q https://github.com/jameslahm/yolov10/releases/download/v1.0/yolov10m.pt\n",
    "# !wget -P archive/weights -q https://github.com/jameslahm/yolov10/releases/download/v1.0/yolov10b.pt\n",
    "# !wget -P archive/weights -q https://github.com/jameslahm/yolov10/releases/download/v1.0/yolov10x.pt\n",
    "# !wget -P archive/weights -q https://github.com/jameslahm/yolov10/releases/download/v1.0/yolov10l.pt"
   ]
  },
  {
   "cell_type": "code",
   "execution_count": null,
   "metadata": {},
   "outputs": [],
   "source": [
    "# !yolo task=detect mode=train epochs=150 batch=32 plots=True model=archive/weights/yolov10x.pt data=data.yaml optimizer=AdamW weight_decay=0.0001"
   ]
  },
  {
   "cell_type": "code",
   "execution_count": null,
   "metadata": {},
   "outputs": [],
   "source": [
    "download_weights(GITHUB_URL, PRETRAINED_MODLE_PATH)"
   ]
  },
  {
   "cell_type": "code",
   "execution_count": null,
   "metadata": {},
   "outputs": [],
   "source": [
    "from ultralytics import YOLO\n",
    "\n",
    "model = YOLO(PRETRAINED_MODLE_PATH)\n",
    "model.train(data=\"data.yaml\", epochs=1)#, optimizer='AdamW', weight_decay=0.0001, batch=32, )\n",
    "model.save(FINETUNED_MODLE_PATH)"
   ]
  },
  {
   "cell_type": "markdown",
   "metadata": {},
   "source": [
    "# Inference"
   ]
  },
  {
   "cell_type": "code",
   "execution_count": null,
   "metadata": {},
   "outputs": [],
   "source": [
    "import cv2\n",
    "from ultralytics import YOLO"
   ]
  },
  {
   "cell_type": "code",
   "execution_count": null,
   "metadata": {},
   "outputs": [],
   "source": [
    "def normalized_to_corners(points, img_width, img_height):\n",
    "    # Denormalize the values\n",
    "    x_center_norm, y_center_norm, width_norm, height_norm = points\n",
    "    x_center = x_center_norm * img_width\n",
    "    y_center = y_center_norm * img_height\n",
    "    width = width_norm * img_width\n",
    "    height = height_norm * img_height\n",
    "\n",
    "    # Calculate the top-left and bottom-right corner coordinates\n",
    "    x1 = int(x_center - width / 2)\n",
    "    y1 = int(y_center - height / 2)\n",
    "    x2 = int(x_center + width / 2)\n",
    "    y2 = int(y_center + height / 2)\n",
    "\n",
    "    return (x1, y1), (x2, y2)\n",
    "\n",
    "def draw_transparent_bbox(image, label, top_left, bottom_right, hex_color):\n",
    "    # Convert hex color to BGR\n",
    "    hex_color = hex_color.lstrip('#')\n",
    "    bgr_color = tuple(int(hex_color[i:i+2], 16) for i in (4, 2, 0))\n",
    "\n",
    "    cv2.rectangle(image, top_left, bottom_right, bgr_color, thickness=2)\n",
    "    cv2.putText(image, label, (top_left[0], top_left[1] - 10), cv2.FONT_HERSHEY_SIMPLEX, 0.5, bgr_color, 2)\n",
    "\n",
    "    return image"
   ]
  },
  {
   "cell_type": "code",
   "execution_count": null,
   "metadata": {},
   "outputs": [],
   "source": [
    "def get_predictions(IMG_PATH, MODEL_PATH):\n",
    "    im2 = cv2.imread(IMG_PATH)\n",
    "    # Read\n",
    "    model = YOLO(MODEL_PATH)\n",
    "    # Predict\n",
    "    results = model.predict(source=im2, save=True, save_txt=True, save_conf=True)\n",
    "    # Save\n",
    "    img_height, img_width, _ = im2.shape\n",
    "    save_dir = results[0].save_dir\n",
    "\n",
    "    label_path = f\"{save_dir}\\labels\\image0.txt\"\n",
    "    with open(label_path, 'r') as file:\n",
    "        lines = file.readlines()\n",
    "        for line in lines:\n",
    "            line = line.replace(\"\\n\",\"\").split(\" \")\n",
    "            conf = line[-1]\n",
    "            if float(conf) >= 0.0:\n",
    "                label = line[0]\n",
    "                points = [float(x) for x in line[1:-1]]\n",
    "                top_left, bottom_right= normalized_to_corners(points, img_width, img_height)\n",
    "                if label == \"0\":\n",
    "                    im2 = draw_transparent_bbox(im2, \"Free\", top_left, bottom_right, \"#00FF00\")\n",
    "                elif label == \"1\":\n",
    "                    im2 = draw_transparent_bbox(im2, \"Not Free\", top_left, bottom_right, \"#FF0000\")\n",
    "                elif label == \"2\":\n",
    "                    im2 = draw_transparent_bbox(im2, \"Partly Free\", top_left, bottom_right, \"#FF0000\")\n",
    "\n",
    "    prediction_save_path = f\"{save_dir}\\predictions.png\"\n",
    "    cv2.imwrite(prediction_save_path, im2)"
   ]
  },
  {
   "cell_type": "code",
   "execution_count": 16,
   "metadata": {},
   "outputs": [],
   "source": [
    "IMG_PATH = r\"internet images\\img6.jpg\""
   ]
  },
  {
   "cell_type": "code",
   "execution_count": null,
   "metadata": {},
   "outputs": [],
   "source": [
    "# !yolo predict model=\"{FINETUNED_MODLE_PATH}\" source=\"{IMG_PATH}\" save_txt=True save_conf=True"
   ]
  },
  {
   "cell_type": "code",
   "execution_count": 17,
   "metadata": {},
   "outputs": [
    {
     "name": "stdout",
     "output_type": "stream",
     "text": [
      "\n",
      "0: 544x640 9 free_parking_spaces, 26 not_free_parking_spaces, 210.3ms\n",
      "Speed: 6.5ms preprocess, 210.3ms inference, 5.4ms postprocess per image at shape (1, 3, 544, 640)\n",
      "Results saved to \u001b[1mruns\\detect\\predict3\u001b[0m\n",
      "1 label saved to runs\\detect\\predict3\\labels\n"
     ]
    }
   ],
   "source": [
    "get_predictions(IMG_PATH, FINETUNED_MODLE_PATH)"
   ]
  }
 ],
 "metadata": {
  "kernelspec": {
   "display_name": "base",
   "language": "python",
   "name": "python3"
  },
  "language_info": {
   "codemirror_mode": {
    "name": "ipython",
    "version": 3
   },
   "file_extension": ".py",
   "mimetype": "text/x-python",
   "name": "python",
   "nbconvert_exporter": "python",
   "pygments_lexer": "ipython3",
   "version": "3.12.2"
  }
 },
 "nbformat": 4,
 "nbformat_minor": 2
}
