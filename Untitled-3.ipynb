{
 "cells": [
  {
   "cell_type": "code",
   "execution_count": 6,
   "metadata": {},
   "outputs": [
    {
     "name": "stdout",
     "output_type": "stream",
     "text": [
      "The image with the bounding box has been saved to C:\\Users\\SaiRamPenjarla\\Desktop\\Project\\YOLOV10\\archive\\images\\output_1.png.\n"
     ]
    }
   ],
   "source": [
    "import cv2\n",
    "\n",
    "# Provided points\n",
    "points = ['943.17,833.93', '1258.92,720.80', '1252.16,727.55', '1304.50,820.42', '985.38,935.24']\n",
    "\n",
    "# Convert string points to tuples of floats\n",
    "points = [tuple(map(float, point.split(','))) for point in points]\n",
    "\n",
    "# Extract x and y coordinates\n",
    "x_coords = [point[0] for point in points]\n",
    "y_coords = [point[1] for point in points]\n",
    "\n",
    "# Find the minimum and maximum x and y coordinates\n",
    "x_min, x_max = min(x_coords), max(x_coords)\n",
    "y_min, y_max = min(y_coords), max(y_coords)\n",
    "\n",
    "# Calculate the center, width, and height of the bounding box\n",
    "x_center = (x_min + x_max) / 2\n",
    "y_center = (y_min + y_max) / 2\n",
    "width = x_max - x_min\n",
    "height = y_max - y_min\n",
    "\n",
    "# Calculate the start and end points for the rectangle\n",
    "start_point = (int(x_center - width / 2), int(y_center - height / 2))\n",
    "end_point = (int(x_center + width / 2), int(y_center + height / 2))\n",
    "\n",
    "# Load the image\n",
    "img_path = r'C:\\Users\\SaiRamPenjarla\\Desktop\\Project\\YOLOV10\\archive\\images\\9.png'\n",
    "image = cv2.imread(img_path)\n",
    "\n",
    "# Check if image was loaded successfully\n",
    "if image is None:\n",
    "    raise FileNotFoundError(f\"The image at path {img_path} could not be loaded.\")\n",
    "\n",
    "# Draw the bounding box\n",
    "color = (255, 0, 0)  # Blue color in BGR\n",
    "thickness = 2\n",
    "\n",
    "cv2.rectangle(image, start_point, end_point, color, thickness)\n",
    "\n",
    "# Save the image or display it\n",
    "output_path = r'C:\\Users\\SaiRamPenjarla\\Desktop\\Project\\YOLOV10\\archive\\images\\output_1.png'\n",
    "cv2.imwrite(output_path, image)\n",
    "\n",
    "# Display the image (optional)\n",
    "# cv2.imshow('Image with Box', image)\n",
    "# cv2.waitKey(0)\n",
    "# cv2.destroyAllWindows()\n",
    "\n",
    "print(f\"The image with the bounding box has been saved to {output_path}.\")\n"
   ]
  },
  {
   "cell_type": "code",
   "execution_count": 11,
   "metadata": {},
   "outputs": [
    {
     "name": "stdout",
     "output_type": "stream",
     "text": [
      "The image with the bounding box has been saved to C:\\Users\\SaiRamPenjarla\\Desktop\\Project\\YOLOV10\\archive\\images\\output_1.png.\n"
     ]
    }
   ],
   "source": [
    "def calculate_bbox(points_list, img_width, img_height):\n",
    "    # Parse points list\n",
    "    points = [tuple(map(float, point.split(','))) for point in points_list]\n",
    "\n",
    "    # Find extremes\n",
    "    min_x = min(point[0] for point in points)\n",
    "    max_x = max(point[0] for point in points)\n",
    "    min_y = min(point[1] for point in points)\n",
    "    max_y = max(point[1] for point in points)\n",
    "\n",
    "    # Calculate bbox center, width, and height\n",
    "    x_center = (min_x + max_x) / 2\n",
    "    y_center = (min_y + max_y) / 2\n",
    "    width = max_x - min_x\n",
    "    height = max_y - min_y\n",
    "\n",
    "    # Normalize values\n",
    "    x_center_norm = x_center / float(img_width)\n",
    "    y_center_norm = y_center / float(img_height)\n",
    "    width_norm = width / float(img_width)\n",
    "    height_norm = height / float(img_height)\n",
    "\n",
    "    return x_center_norm, y_center_norm, width_norm, height_norm\n",
    "\n",
    "points = ['943.17,833.93', '1258.92,720.80', '1252.16,727.55', '1304.50,820.42', '985.38,935.24']\n",
    "# Calculate the center, width, and height of the bounding box\n",
    "x_center, y_center, width, height = calculate_bbox(points_list=points, img_width=\"1920\", img_height=\"1084\")\n",
    "\n",
    "# Calculate the start and end points for the rectangle\n",
    "start_point = (int(x_center - width / 2), int(y_center - height / 2))\n",
    "end_point = (int(x_center + width / 2), int(y_center + height / 2))\n",
    "\n",
    "# Load the image\n",
    "img_path = r'C:\\Users\\SaiRamPenjarla\\Desktop\\Project\\YOLOV10\\archive\\images\\9.png'\n",
    "image = cv2.imread(img_path)\n",
    "\n",
    "# Check if image was loaded successfully\n",
    "if image is None:\n",
    "    raise FileNotFoundError(f\"The image at path {img_path} could not be loaded.\")\n",
    "\n",
    "# Draw the bounding box\n",
    "color = (255, 0, 0)  # Blue color in BGR\n",
    "thickness = 2\n",
    "\n",
    "cv2.rectangle(image, start_point, end_point, color, thickness)\n",
    "\n",
    "# Save the image or display it\n",
    "output_path = r'C:\\Users\\SaiRamPenjarla\\Desktop\\Project\\YOLOV10\\archive\\images\\output_1.png'\n",
    "cv2.imwrite(output_path, image)\n",
    "\n",
    "# Display the image (optional)\n",
    "# cv2.imshow('Image with Box', image)\n",
    "# cv2.waitKey(0)\n",
    "# cv2.destroyAllWindows()\n",
    "\n",
    "print(f\"The image with the bounding box has been saved to {output_path}.\")\n",
    "\n"
   ]
  },
  {
   "cell_type": "code",
   "execution_count": null,
   "metadata": {},
   "outputs": [],
   "source": []
  }
 ],
 "metadata": {
  "kernelspec": {
   "display_name": "base",
   "language": "python",
   "name": "python3"
  },
  "language_info": {
   "codemirror_mode": {
    "name": "ipython",
    "version": 3
   },
   "file_extension": ".py",
   "mimetype": "text/x-python",
   "name": "python",
   "nbconvert_exporter": "python",
   "pygments_lexer": "ipython3",
   "version": "3.12.2"
  }
 },
 "nbformat": 4,
 "nbformat_minor": 2
}
